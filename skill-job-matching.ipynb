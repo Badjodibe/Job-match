{
 "cells": [
  {
   "cell_type": "code",
   "execution_count": 1,
   "id": "acd613cf",
   "metadata": {
    "_cell_guid": "b1076dfc-b9ad-4769-8c92-a6c4dae69d19",
    "_uuid": "8f2839f25d086af736a60e9eeb907d3b93b6e0e5",
    "execution": {
     "iopub.execute_input": "2024-02-22T01:04:40.982701Z",
     "iopub.status.busy": "2024-02-22T01:04:40.982372Z",
     "iopub.status.idle": "2024-02-22T01:04:43.726547Z",
     "shell.execute_reply": "2024-02-22T01:04:43.724719Z"
    },
    "papermill": {
     "duration": 2.755465,
     "end_time": "2024-02-22T01:04:43.729064",
     "exception": false,
     "start_time": "2024-02-22T01:04:40.973599",
     "status": "completed"
    },
    "tags": []
   },
   "outputs": [],
   "source": [
    "# This Python 3 environment comes with many helpful analytics libraries installed\n",
    "# It is defined by the kaggle/python Docker image: https://github.com/kaggle/docker-python\n",
    "# For example, here's several helpful packages to load\n",
    "\n",
    "import numpy as np # linear algebra\n",
    "import pandas as pd # data processing, CSV file I/O (e.g. pd.read_csv)\n",
    "import matplotlib.pyplot as plt\n",
    "from sklearn.model_selection import train_test_split\n",
    "from sklearn.preprocessing import StandardScaler\n",
    "from sklearn.svm import SVC\n",
    "from sklearn.metrics import accuracy_score\n",
    "\n",
    "# Input data files are available in the read-only \"../input/\" directory\n",
    "# For example, running this (by clicking run or pressing Shift+Enter) will list all files under the input director\n",
    "# You can write up to 20GB to the current directory (/kaggle/working/) that gets preserved as output when you create a version using \"Save & Run All\" \n",
    "# You can also write temporary files to /kaggle/temp/, but they won't be saved outside of the current session"
   ]
  },
  {
   "cell_type": "markdown",
   "id": "3b2aa596",
   "metadata": {
    "papermill": {
     "duration": 0.005389,
     "end_time": "2024-02-22T01:04:43.740390",
     "exception": false,
     "start_time": "2024-02-22T01:04:43.735001",
     "status": "completed"
    },
    "tags": []
   },
   "source": [
    "## Introduction"
   ]
  },
  {
   "cell_type": "markdown",
   "id": "548b4e57",
   "metadata": {
    "papermill": {
     "duration": 0.00617,
     "end_time": "2024-02-22T01:04:43.752158",
     "exception": false,
     "start_time": "2024-02-22T01:04:43.745988",
     "status": "completed"
    },
    "tags": []
   },
   "source": [
    "Dans le domaine informatique, il est n'est pas évident de savoir quel poste corresponds á un candidat, ou encore un personne à la capacité d'accomplir plusieurs responsabilités. La raison est que très souvent, un candidat en informatique possède des compétences dans de domaine varié en l'informatique. Ce dernier peux s'épanouir á un poste que si seulement les combinaisons de ces compétences reponds aux exigences du poste. Je donne un exemple, un étudiant qui a eu son diplôme en informatique, peut á la fois postuler pour un post de développeur d'application web, ou de dévéloppeur de base de données etc. La difficulté qu'on rencontre ou la question qu'on se pose est la suivant : Quel poste correspond le mieux á un candidat si on se base sur les combinaisons de ces competences techniques. Ce travail, va utilisé l'intélligence artificielle, plus précisement machine learning pour répondre á cette question."
   ]
  },
  {
   "cell_type": "markdown",
   "id": "1acba3e1",
   "metadata": {
    "papermill": {
     "duration": 0.005144,
     "end_time": "2024-02-22T01:04:43.762654",
     "exception": false,
     "start_time": "2024-02-22T01:04:43.757510",
     "status": "completed"
    },
    "tags": []
   },
   "source": [
    "Ci dessous, les packages que nous allons utilisés dans ce projet\n",
    "numpy pour effectuer les opérations numerique, c'est d'ailleurs le package le plus utilisés\n",
    "pandas le package fournissant des outils d'analyse de données, il offre une representation structuré des données, comme les series et les dataframe. Il fournie egalement des fonctions permettant de faire l'analyse de données.\n",
    "Sklearn est la bibliotheque que nous allons utlisés dans ce projet pour implémenté les modèles de machine learning."
   ]
  },
  {
   "cell_type": "markdown",
   "id": "7eab2530",
   "metadata": {
    "papermill": {
     "duration": 0.00535,
     "end_time": "2024-02-22T01:04:43.773509",
     "exception": false,
     "start_time": "2024-02-22T01:04:43.768159",
     "status": "completed"
    },
    "tags": []
   },
   "source": [
    "### Description de la base de données"
   ]
  },
  {
   "cell_type": "markdown",
   "id": "fea87c60",
   "metadata": {
    "papermill": {
     "duration": 0.00527,
     "end_time": "2024-02-22T01:04:43.784177",
     "exception": false,
     "start_time": "2024-02-22T01:04:43.778907",
     "status": "completed"
    },
    "tags": []
   },
   "source": [
    "Cette base de données  regroupe les informations récuillies lors d'une enquête. Des candidats, ayant des compétences dans different domaine de l'informatique ont été noté dans ces domaines. Dans chaque domaine on leur attribue les appreciation en fonction de la maitrise de cette domaine. Pour une domaine donnée, les appréciations peuvent être \"Non interessé\", \"debutant\" ansi de suite jusqu'a excellent. La base de donnée originalle contient ces notation sous forme de chaine de caractère, elle á été transformer après par en de nombre numérique. Maintenant que la base de données á été explique, avant d'aller plus loin, commençons par l'importée dans notre espace de travail. Notre base de donnée nommée \"IT-carrer-proficiency\" est déjà disponible sur le plateforme de kaggle, il suffit, de l'intégrée dans le projet en fournissant le chemin d'accès que kaggle offre."
   ]
  },
  {
   "cell_type": "code",
   "execution_count": 2,
   "id": "18fdc6c3",
   "metadata": {
    "execution": {
     "iopub.execute_input": "2024-02-22T01:04:43.797793Z",
     "iopub.status.busy": "2024-02-22T01:04:43.797277Z",
     "iopub.status.idle": "2024-02-22T01:04:43.874816Z",
     "shell.execute_reply": "2024-02-22T01:04:43.873453Z"
    },
    "papermill": {
     "duration": 0.088087,
     "end_time": "2024-02-22T01:04:43.877805",
     "exception": false,
     "start_time": "2024-02-22T01:04:43.789718",
     "status": "completed"
    },
    "tags": []
   },
   "outputs": [],
   "source": [
    "raw_data = pd.read_csv(\"/kaggle/input/it-carrer-proficiency/IT Career Proficiency Dataset/dataset9000.csv\")\n",
    "proficiency_data = pd.read_csv(\"/kaggle/input/it-carrer-proficiency/IT Career Proficiency Dataset/dataset9000.data\")"
   ]
  },
  {
   "cell_type": "code",
   "execution_count": 3,
   "id": "12a21cab",
   "metadata": {
    "execution": {
     "iopub.execute_input": "2024-02-22T01:04:43.893721Z",
     "iopub.status.busy": "2024-02-22T01:04:43.893304Z",
     "iopub.status.idle": "2024-02-22T01:04:43.902263Z",
     "shell.execute_reply": "2024-02-22T01:04:43.901387Z"
    },
    "papermill": {
     "duration": 0.020346,
     "end_time": "2024-02-22T01:04:43.904531",
     "exception": false,
     "start_time": "2024-02-22T01:04:43.884185",
     "status": "completed"
    },
    "tags": []
   },
   "outputs": [
    {
     "data": {
      "text/plain": [
       "(9179, 18)"
      ]
     },
     "execution_count": 3,
     "metadata": {},
     "output_type": "execute_result"
    }
   ],
   "source": [
    "raw_data.shape"
   ]
  },
  {
   "cell_type": "code",
   "execution_count": 4,
   "id": "5f38d9bb",
   "metadata": {
    "execution": {
     "iopub.execute_input": "2024-02-22T01:04:43.918170Z",
     "iopub.status.busy": "2024-02-22T01:04:43.917547Z",
     "iopub.status.idle": "2024-02-22T01:04:43.926069Z",
     "shell.execute_reply": "2024-02-22T01:04:43.925162Z"
    },
    "papermill": {
     "duration": 0.017608,
     "end_time": "2024-02-22T01:04:43.928045",
     "exception": false,
     "start_time": "2024-02-22T01:04:43.910437",
     "status": "completed"
    },
    "tags": []
   },
   "outputs": [
    {
     "data": {
      "text/plain": [
       "0       Database Administrator\n",
       "1       Database Administrator\n",
       "2       Database Administrator\n",
       "3       Database Administrator\n",
       "4       Database Administrator\n",
       "                 ...          \n",
       "9174         Graphics Designer\n",
       "9175         Graphics Designer\n",
       "9176         Graphics Designer\n",
       "9177         Graphics Designer\n",
       "9178         Graphics Designer\n",
       "Name: Database Administrator, Length: 9179, dtype: object"
      ]
     },
     "execution_count": 4,
     "metadata": {},
     "output_type": "execute_result"
    }
   ],
   "source": [
    "proficiency_data.iloc[:,-1]"
   ]
  },
  {
   "cell_type": "code",
   "execution_count": 5,
   "id": "dfe04488",
   "metadata": {
    "execution": {
     "iopub.execute_input": "2024-02-22T01:04:43.942733Z",
     "iopub.status.busy": "2024-02-22T01:04:43.942026Z",
     "iopub.status.idle": "2024-02-22T01:04:43.951492Z",
     "shell.execute_reply": "2024-02-22T01:04:43.950721Z"
    },
    "papermill": {
     "duration": 0.019372,
     "end_time": "2024-02-22T01:04:43.953718",
     "exception": false,
     "start_time": "2024-02-22T01:04:43.934346",
     "status": "completed"
    },
    "tags": []
   },
   "outputs": [],
   "source": [
    "target = pd.unique(proficiency_data.iloc[:,-1])"
   ]
  },
  {
   "cell_type": "markdown",
   "id": "5283f1cf",
   "metadata": {
    "papermill": {
     "duration": 0.00594,
     "end_time": "2024-02-22T01:04:43.965829",
     "exception": false,
     "start_time": "2024-02-22T01:04:43.959889",
     "status": "completed"
    },
    "tags": []
   },
   "source": []
  },
  {
   "cell_type": "markdown",
   "id": "fc2e2cde",
   "metadata": {
    "papermill": {
     "duration": 0.005835,
     "end_time": "2024-02-22T01:04:43.977907",
     "exception": false,
     "start_time": "2024-02-22T01:04:43.972072",
     "status": "completed"
    },
    "tags": []
   },
   "source": [
    "La base de données comporte 9179 lignes, c'est a dire les, 9179 observations, sur 18 colonnes. La dernière colonne qui est la colonne cible est quant à elle toujours sous forme textuelle. Nous allons premièrement la transformer en numerique"
   ]
  },
  {
   "cell_type": "code",
   "execution_count": 6,
   "id": "3ca41f4c",
   "metadata": {
    "execution": {
     "iopub.execute_input": "2024-02-22T01:04:43.992685Z",
     "iopub.status.busy": "2024-02-22T01:04:43.992054Z",
     "iopub.status.idle": "2024-02-22T01:04:45.340036Z",
     "shell.execute_reply": "2024-02-22T01:04:45.338527Z"
    },
    "papermill": {
     "duration": 1.35821,
     "end_time": "2024-02-22T01:04:45.342552",
     "exception": false,
     "start_time": "2024-02-22T01:04:43.984342",
     "status": "completed"
    },
    "tags": []
   },
   "outputs": [],
   "source": [
    "annotation_dict = {}\n",
    "j = 1\n",
    "for i in target:\n",
    "    annotation_dict[i] = j\n",
    "    j=j+1\n",
    "for index, row in proficiency_data.iterrows():\n",
    "    proficiency_data.loc[index, \"Target\"] = annotation_dict[row.iloc[-1]]"
   ]
  },
  {
   "cell_type": "code",
   "execution_count": 7,
   "id": "93caa3f3",
   "metadata": {
    "execution": {
     "iopub.execute_input": "2024-02-22T01:04:45.355754Z",
     "iopub.status.busy": "2024-02-22T01:04:45.355431Z",
     "iopub.status.idle": "2024-02-22T01:04:45.362547Z",
     "shell.execute_reply": "2024-02-22T01:04:45.361583Z"
    },
    "papermill": {
     "duration": 0.015836,
     "end_time": "2024-02-22T01:04:45.364350",
     "exception": false,
     "start_time": "2024-02-22T01:04:45.348514",
     "status": "completed"
    },
    "tags": []
   },
   "outputs": [
    {
     "data": {
      "text/plain": [
       "{'Database Administrator': 1,\n",
       " 'Hardware Engineer': 2,\n",
       " 'Application Support Engineer': 3,\n",
       " 'Cyber Security Specialist': 4,\n",
       " 'Networking Engineer': 5,\n",
       " 'Software Developer': 6,\n",
       " 'API Integration Specialist': 7,\n",
       " 'Project Manager': 8,\n",
       " 'Information Security Specialist': 9,\n",
       " 'Technical Writer': 10,\n",
       " 'AI ML Specialist': 11,\n",
       " 'Software Tester': 12,\n",
       " 'Business Analyst': 13,\n",
       " 'Customer Service Executive': 14,\n",
       " 'Data Scientist': 15,\n",
       " 'Helpdesk Engineer': 16,\n",
       " 'Graphics Designer': 17}"
      ]
     },
     "execution_count": 7,
     "metadata": {},
     "output_type": "execute_result"
    }
   ],
   "source": [
    "annotation_dict"
   ]
  },
  {
   "cell_type": "markdown",
   "id": "badf05a6",
   "metadata": {
    "papermill": {
     "duration": 0.006521,
     "end_time": "2024-02-22T01:04:45.377597",
     "exception": false,
     "start_time": "2024-02-22T01:04:45.371076",
     "status": "completed"
    },
    "tags": []
   },
   "source": [
    "### Le type d'apprentisage "
   ]
  },
  {
   "cell_type": "markdown",
   "id": "89158929",
   "metadata": {
    "papermill": {
     "duration": 0.00627,
     "end_time": "2024-02-22T01:04:45.390369",
     "exception": false,
     "start_time": "2024-02-22T01:04:45.384099",
     "status": "completed"
    },
    "tags": []
   },
   "source": [
    "Le problème que nous faisons fasse est clairement un problème d'apprentissage superviser, puisqu'on cherche á savoir dans quelle catégorie de post serait adéquate á un candidat en IT en se basant sur ces compétences technique. Pour zoomé encore plus, ce n'est pas un problème de regrèssion mais plutot un problème de classification, car on cherche á faire une classification.\n",
    "\n",
    "Commençons d'abord par recupérer nos caractèristique ainsi que notre cible. Entre temps nous avons transoformé notre cible en donnée numerique mais l'ancien chaine reste, supprimer cette colonne de chaine de caractère et recupérons le X qui est les appréciations dans ces différent domaine et le y qui la cible c'est á dire le domaine correspondant."
   ]
  },
  {
   "cell_type": "code",
   "execution_count": 8,
   "id": "93c8d4c0",
   "metadata": {
    "execution": {
     "iopub.execute_input": "2024-02-22T01:04:45.405401Z",
     "iopub.status.busy": "2024-02-22T01:04:45.405020Z",
     "iopub.status.idle": "2024-02-22T01:04:45.413489Z",
     "shell.execute_reply": "2024-02-22T01:04:45.412429Z"
    },
    "papermill": {
     "duration": 0.018585,
     "end_time": "2024-02-22T01:04:45.415777",
     "exception": false,
     "start_time": "2024-02-22T01:04:45.397192",
     "status": "completed"
    },
    "tags": []
   },
   "outputs": [],
   "source": [
    "prepared_data = proficiency_data.drop(\"Database Administrator\", axis=1)"
   ]
  },
  {
   "cell_type": "code",
   "execution_count": 9,
   "id": "73df8e44",
   "metadata": {
    "execution": {
     "iopub.execute_input": "2024-02-22T01:04:45.430321Z",
     "iopub.status.busy": "2024-02-22T01:04:45.429726Z",
     "iopub.status.idle": "2024-02-22T01:04:45.453591Z",
     "shell.execute_reply": "2024-02-22T01:04:45.451672Z"
    },
    "papermill": {
     "duration": 0.034113,
     "end_time": "2024-02-22T01:04:45.456004",
     "exception": false,
     "start_time": "2024-02-22T01:04:45.421891",
     "status": "completed"
    },
    "tags": []
   },
   "outputs": [
    {
     "data": {
      "text/html": [
       "<div>\n",
       "<style scoped>\n",
       "    .dataframe tbody tr th:only-of-type {\n",
       "        vertical-align: middle;\n",
       "    }\n",
       "\n",
       "    .dataframe tbody tr th {\n",
       "        vertical-align: top;\n",
       "    }\n",
       "\n",
       "    .dataframe thead th {\n",
       "        text-align: right;\n",
       "    }\n",
       "</style>\n",
       "<table border=\"1\" class=\"dataframe\">\n",
       "  <thead>\n",
       "    <tr style=\"text-align: right;\">\n",
       "      <th></th>\n",
       "      <th>9</th>\n",
       "      <th>1</th>\n",
       "      <th>1.1</th>\n",
       "      <th>1.2</th>\n",
       "      <th>1.3</th>\n",
       "      <th>1.4</th>\n",
       "      <th>1.5</th>\n",
       "      <th>1.6</th>\n",
       "      <th>1.7</th>\n",
       "      <th>1.8</th>\n",
       "      <th>1.9</th>\n",
       "      <th>1.10</th>\n",
       "      <th>1.11</th>\n",
       "      <th>1.12</th>\n",
       "      <th>1.13</th>\n",
       "      <th>1.14</th>\n",
       "      <th>1.15</th>\n",
       "      <th>Target</th>\n",
       "    </tr>\n",
       "  </thead>\n",
       "  <tbody>\n",
       "    <tr>\n",
       "      <th>0</th>\n",
       "      <td>9</td>\n",
       "      <td>2</td>\n",
       "      <td>1</td>\n",
       "      <td>1</td>\n",
       "      <td>1</td>\n",
       "      <td>1</td>\n",
       "      <td>1</td>\n",
       "      <td>1</td>\n",
       "      <td>1</td>\n",
       "      <td>1</td>\n",
       "      <td>1</td>\n",
       "      <td>1</td>\n",
       "      <td>1</td>\n",
       "      <td>1</td>\n",
       "      <td>1</td>\n",
       "      <td>1</td>\n",
       "      <td>1</td>\n",
       "      <td>1.0</td>\n",
       "    </tr>\n",
       "    <tr>\n",
       "      <th>1</th>\n",
       "      <td>9</td>\n",
       "      <td>3</td>\n",
       "      <td>1</td>\n",
       "      <td>1</td>\n",
       "      <td>1</td>\n",
       "      <td>1</td>\n",
       "      <td>1</td>\n",
       "      <td>1</td>\n",
       "      <td>1</td>\n",
       "      <td>1</td>\n",
       "      <td>1</td>\n",
       "      <td>1</td>\n",
       "      <td>1</td>\n",
       "      <td>1</td>\n",
       "      <td>1</td>\n",
       "      <td>1</td>\n",
       "      <td>1</td>\n",
       "      <td>1.0</td>\n",
       "    </tr>\n",
       "    <tr>\n",
       "      <th>2</th>\n",
       "      <td>9</td>\n",
       "      <td>5</td>\n",
       "      <td>1</td>\n",
       "      <td>1</td>\n",
       "      <td>1</td>\n",
       "      <td>1</td>\n",
       "      <td>1</td>\n",
       "      <td>1</td>\n",
       "      <td>1</td>\n",
       "      <td>1</td>\n",
       "      <td>1</td>\n",
       "      <td>1</td>\n",
       "      <td>1</td>\n",
       "      <td>1</td>\n",
       "      <td>1</td>\n",
       "      <td>1</td>\n",
       "      <td>1</td>\n",
       "      <td>1.0</td>\n",
       "    </tr>\n",
       "    <tr>\n",
       "      <th>3</th>\n",
       "      <td>9</td>\n",
       "      <td>6</td>\n",
       "      <td>1</td>\n",
       "      <td>1</td>\n",
       "      <td>1</td>\n",
       "      <td>1</td>\n",
       "      <td>1</td>\n",
       "      <td>1</td>\n",
       "      <td>1</td>\n",
       "      <td>1</td>\n",
       "      <td>1</td>\n",
       "      <td>1</td>\n",
       "      <td>1</td>\n",
       "      <td>1</td>\n",
       "      <td>1</td>\n",
       "      <td>1</td>\n",
       "      <td>1</td>\n",
       "      <td>1.0</td>\n",
       "    </tr>\n",
       "    <tr>\n",
       "      <th>4</th>\n",
       "      <td>9</td>\n",
       "      <td>7</td>\n",
       "      <td>1</td>\n",
       "      <td>1</td>\n",
       "      <td>1</td>\n",
       "      <td>1</td>\n",
       "      <td>1</td>\n",
       "      <td>1</td>\n",
       "      <td>1</td>\n",
       "      <td>1</td>\n",
       "      <td>1</td>\n",
       "      <td>1</td>\n",
       "      <td>1</td>\n",
       "      <td>1</td>\n",
       "      <td>1</td>\n",
       "      <td>1</td>\n",
       "      <td>1</td>\n",
       "      <td>1.0</td>\n",
       "    </tr>\n",
       "    <tr>\n",
       "      <th>...</th>\n",
       "      <td>...</td>\n",
       "      <td>...</td>\n",
       "      <td>...</td>\n",
       "      <td>...</td>\n",
       "      <td>...</td>\n",
       "      <td>...</td>\n",
       "      <td>...</td>\n",
       "      <td>...</td>\n",
       "      <td>...</td>\n",
       "      <td>...</td>\n",
       "      <td>...</td>\n",
       "      <td>...</td>\n",
       "      <td>...</td>\n",
       "      <td>...</td>\n",
       "      <td>...</td>\n",
       "      <td>...</td>\n",
       "      <td>...</td>\n",
       "      <td>...</td>\n",
       "    </tr>\n",
       "    <tr>\n",
       "      <th>9174</th>\n",
       "      <td>1</td>\n",
       "      <td>1</td>\n",
       "      <td>1</td>\n",
       "      <td>1</td>\n",
       "      <td>1</td>\n",
       "      <td>1</td>\n",
       "      <td>1</td>\n",
       "      <td>1</td>\n",
       "      <td>1</td>\n",
       "      <td>1</td>\n",
       "      <td>1</td>\n",
       "      <td>1</td>\n",
       "      <td>1</td>\n",
       "      <td>1</td>\n",
       "      <td>3</td>\n",
       "      <td>3</td>\n",
       "      <td>9</td>\n",
       "      <td>17.0</td>\n",
       "    </tr>\n",
       "    <tr>\n",
       "      <th>9175</th>\n",
       "      <td>1</td>\n",
       "      <td>1</td>\n",
       "      <td>1</td>\n",
       "      <td>1</td>\n",
       "      <td>1</td>\n",
       "      <td>1</td>\n",
       "      <td>1</td>\n",
       "      <td>1</td>\n",
       "      <td>1</td>\n",
       "      <td>1</td>\n",
       "      <td>1</td>\n",
       "      <td>1</td>\n",
       "      <td>1</td>\n",
       "      <td>1</td>\n",
       "      <td>5</td>\n",
       "      <td>5</td>\n",
       "      <td>9</td>\n",
       "      <td>17.0</td>\n",
       "    </tr>\n",
       "    <tr>\n",
       "      <th>9176</th>\n",
       "      <td>1</td>\n",
       "      <td>1</td>\n",
       "      <td>1</td>\n",
       "      <td>1</td>\n",
       "      <td>1</td>\n",
       "      <td>1</td>\n",
       "      <td>1</td>\n",
       "      <td>1</td>\n",
       "      <td>1</td>\n",
       "      <td>1</td>\n",
       "      <td>1</td>\n",
       "      <td>1</td>\n",
       "      <td>1</td>\n",
       "      <td>1</td>\n",
       "      <td>6</td>\n",
       "      <td>6</td>\n",
       "      <td>9</td>\n",
       "      <td>17.0</td>\n",
       "    </tr>\n",
       "    <tr>\n",
       "      <th>9177</th>\n",
       "      <td>1</td>\n",
       "      <td>1</td>\n",
       "      <td>1</td>\n",
       "      <td>1</td>\n",
       "      <td>1</td>\n",
       "      <td>1</td>\n",
       "      <td>1</td>\n",
       "      <td>1</td>\n",
       "      <td>1</td>\n",
       "      <td>1</td>\n",
       "      <td>1</td>\n",
       "      <td>1</td>\n",
       "      <td>1</td>\n",
       "      <td>1</td>\n",
       "      <td>7</td>\n",
       "      <td>7</td>\n",
       "      <td>9</td>\n",
       "      <td>17.0</td>\n",
       "    </tr>\n",
       "    <tr>\n",
       "      <th>9178</th>\n",
       "      <td>1</td>\n",
       "      <td>1</td>\n",
       "      <td>1</td>\n",
       "      <td>1</td>\n",
       "      <td>1</td>\n",
       "      <td>1</td>\n",
       "      <td>1</td>\n",
       "      <td>1</td>\n",
       "      <td>1</td>\n",
       "      <td>1</td>\n",
       "      <td>1</td>\n",
       "      <td>1</td>\n",
       "      <td>1</td>\n",
       "      <td>1</td>\n",
       "      <td>7</td>\n",
       "      <td>5</td>\n",
       "      <td>9</td>\n",
       "      <td>17.0</td>\n",
       "    </tr>\n",
       "  </tbody>\n",
       "</table>\n",
       "<p>9179 rows × 18 columns</p>\n",
       "</div>"
      ],
      "text/plain": [
       "      9  1  1.1  1.2  1.3  1.4  1.5  1.6  1.7  1.8  1.9  1.10  1.11  1.12  \\\n",
       "0     9  2    1    1    1    1    1    1    1    1    1     1     1     1   \n",
       "1     9  3    1    1    1    1    1    1    1    1    1     1     1     1   \n",
       "2     9  5    1    1    1    1    1    1    1    1    1     1     1     1   \n",
       "3     9  6    1    1    1    1    1    1    1    1    1     1     1     1   \n",
       "4     9  7    1    1    1    1    1    1    1    1    1     1     1     1   \n",
       "...  .. ..  ...  ...  ...  ...  ...  ...  ...  ...  ...   ...   ...   ...   \n",
       "9174  1  1    1    1    1    1    1    1    1    1    1     1     1     1   \n",
       "9175  1  1    1    1    1    1    1    1    1    1    1     1     1     1   \n",
       "9176  1  1    1    1    1    1    1    1    1    1    1     1     1     1   \n",
       "9177  1  1    1    1    1    1    1    1    1    1    1     1     1     1   \n",
       "9178  1  1    1    1    1    1    1    1    1    1    1     1     1     1   \n",
       "\n",
       "      1.13  1.14  1.15  Target  \n",
       "0        1     1     1     1.0  \n",
       "1        1     1     1     1.0  \n",
       "2        1     1     1     1.0  \n",
       "3        1     1     1     1.0  \n",
       "4        1     1     1     1.0  \n",
       "...    ...   ...   ...     ...  \n",
       "9174     3     3     9    17.0  \n",
       "9175     5     5     9    17.0  \n",
       "9176     6     6     9    17.0  \n",
       "9177     7     7     9    17.0  \n",
       "9178     7     5     9    17.0  \n",
       "\n",
       "[9179 rows x 18 columns]"
      ]
     },
     "execution_count": 9,
     "metadata": {},
     "output_type": "execute_result"
    }
   ],
   "source": [
    "prepared_data"
   ]
  },
  {
   "cell_type": "code",
   "execution_count": 10,
   "id": "c5450903",
   "metadata": {
    "execution": {
     "iopub.execute_input": "2024-02-22T01:04:45.470998Z",
     "iopub.status.busy": "2024-02-22T01:04:45.470561Z",
     "iopub.status.idle": "2024-02-22T01:04:45.479435Z",
     "shell.execute_reply": "2024-02-22T01:04:45.477494Z"
    },
    "papermill": {
     "duration": 0.019574,
     "end_time": "2024-02-22T01:04:45.482230",
     "exception": false,
     "start_time": "2024-02-22T01:04:45.462656",
     "status": "completed"
    },
    "tags": []
   },
   "outputs": [],
   "source": [
    "X, y = prepared_data.drop([\"Target\"], axis = 1), prepared_data.iloc[:, -1]"
   ]
  },
  {
   "cell_type": "code",
   "execution_count": 11,
   "id": "cd521b59",
   "metadata": {
    "execution": {
     "iopub.execute_input": "2024-02-22T01:04:45.497198Z",
     "iopub.status.busy": "2024-02-22T01:04:45.496796Z",
     "iopub.status.idle": "2024-02-22T01:04:45.506867Z",
     "shell.execute_reply": "2024-02-22T01:04:45.505372Z"
    },
    "papermill": {
     "duration": 0.019837,
     "end_time": "2024-02-22T01:04:45.508986",
     "exception": false,
     "start_time": "2024-02-22T01:04:45.489149",
     "status": "completed"
    },
    "tags": []
   },
   "outputs": [
    {
     "data": {
      "text/plain": [
       "0        1.0\n",
       "1        1.0\n",
       "2        1.0\n",
       "3        1.0\n",
       "4        1.0\n",
       "        ... \n",
       "9174    17.0\n",
       "9175    17.0\n",
       "9176    17.0\n",
       "9177    17.0\n",
       "9178    17.0\n",
       "Name: Target, Length: 9179, dtype: float64"
      ]
     },
     "execution_count": 11,
     "metadata": {},
     "output_type": "execute_result"
    }
   ],
   "source": [
    "y"
   ]
  },
  {
   "cell_type": "markdown",
   "id": "b72189bc",
   "metadata": {
    "papermill": {
     "duration": 0.006267,
     "end_time": "2024-02-22T01:04:45.521953",
     "exception": false,
     "start_time": "2024-02-22T01:04:45.515686",
     "status": "completed"
    },
    "tags": []
   },
   "source": [
    "### Standardisation"
   ]
  },
  {
   "cell_type": "markdown",
   "id": "9915f459",
   "metadata": {
    "papermill": {
     "duration": 0.006785,
     "end_time": "2024-02-22T01:04:45.535879",
     "exception": false,
     "start_time": "2024-02-22T01:04:45.529094",
     "status": "completed"
    },
    "tags": []
   },
   "source": [
    "Pour aider notre modèle á ne pas effectué des calcule très grands, on va standardiser toutes nos varible. Les standardisations consiste á retirer la moyenne d'une variable dans cette variable et la diviser pas son écart-type. Ainsi on va rendre cette variable normal avec une moyenne de 0 et un ecart type de 1. La formule est la suivante: $$ x_i = \\frac{x - \\mu}{\\sigma} $$ où <br> $ x $ est la variable <br> $\\mu$   la moyenne <br> $ \\sigma$ l'ecart-type "
   ]
  },
  {
   "cell_type": "markdown",
   "id": "4c743cc6",
   "metadata": {
    "papermill": {
     "duration": 0.006093,
     "end_time": "2024-02-22T01:04:45.548600",
     "exception": false,
     "start_time": "2024-02-22T01:04:45.542507",
     "status": "completed"
    },
    "tags": []
   },
   "source": [
    "### Le modele"
   ]
  },
  {
   "cell_type": "markdown",
   "id": "4dcef39e",
   "metadata": {
    "papermill": {
     "duration": 0.006054,
     "end_time": "2024-02-22T01:04:45.561130",
     "exception": false,
     "start_time": "2024-02-22T01:04:45.555076",
     "status": "completed"
    },
    "tags": []
   },
   "source": [
    "Comme dit plus haut, le problème present est de type de classification multi-classe. Un des algorithmes de classification mult-classe le plus utilisé est l'algorithme de support vecteur machine. Cet algorithme divise l'espece en de classes correspondant aux classe de notre porblème. Le code suivant est une implémentation de l'algorithme de support vector machine. Mais avant cela, division note donnée en données d'entrainement et données de test"
   ]
  },
  {
   "cell_type": "code",
   "execution_count": 12,
   "id": "236d35bf",
   "metadata": {
    "execution": {
     "iopub.execute_input": "2024-02-22T01:04:45.576684Z",
     "iopub.status.busy": "2024-02-22T01:04:45.576100Z",
     "iopub.status.idle": "2024-02-22T01:04:45.589545Z",
     "shell.execute_reply": "2024-02-22T01:04:45.588817Z"
    },
    "papermill": {
     "duration": 0.024047,
     "end_time": "2024-02-22T01:04:45.591839",
     "exception": false,
     "start_time": "2024-02-22T01:04:45.567792",
     "status": "completed"
    },
    "tags": []
   },
   "outputs": [],
   "source": [
    "X_train, X_test, y_train, y_test = train_test_split(X, y, test_size=0.2, random_state=42)\n",
    "scaler = StandardScaler()\n",
    "X_train = scaler.fit_transform(X_train)\n",
    "X_test = scaler.transform(X_test)"
   ]
  },
  {
   "cell_type": "code",
   "execution_count": 13,
   "id": "ac343f69",
   "metadata": {
    "execution": {
     "iopub.execute_input": "2024-02-22T01:04:45.606470Z",
     "iopub.status.busy": "2024-02-22T01:04:45.605902Z",
     "iopub.status.idle": "2024-02-22T01:04:45.707609Z",
     "shell.execute_reply": "2024-02-22T01:04:45.706331Z"
    },
    "papermill": {
     "duration": 0.11144,
     "end_time": "2024-02-22T01:04:45.709704",
     "exception": false,
     "start_time": "2024-02-22T01:04:45.598264",
     "status": "completed"
    },
    "tags": []
   },
   "outputs": [],
   "source": [
    "svm_model = SVC(kernel='linear', C=1.0)\n",
    "svm_model.fit(X_train, y_train)\n",
    "y_pred = svm_model.predict(X_test)"
   ]
  },
  {
   "cell_type": "code",
   "execution_count": 14,
   "id": "7f6e0d28",
   "metadata": {
    "execution": {
     "iopub.execute_input": "2024-02-22T01:04:45.724155Z",
     "iopub.status.busy": "2024-02-22T01:04:45.723822Z",
     "iopub.status.idle": "2024-02-22T01:04:45.731695Z",
     "shell.execute_reply": "2024-02-22T01:04:45.730077Z"
    },
    "papermill": {
     "duration": 0.018073,
     "end_time": "2024-02-22T01:04:45.734387",
     "exception": false,
     "start_time": "2024-02-22T01:04:45.716314",
     "status": "completed"
    },
    "tags": []
   },
   "outputs": [
    {
     "name": "stdout",
     "output_type": "stream",
     "text": [
      "Accuracy: 1.0\n"
     ]
    }
   ],
   "source": [
    "accuracy = accuracy_score(y_test, y_pred)\n",
    "print(f\"Accuracy: {accuracy}\")"
   ]
  },
  {
   "cell_type": "markdown",
   "id": "fdb098b7",
   "metadata": {
    "papermill": {
     "duration": 0.006376,
     "end_time": "2024-02-22T01:04:45.747454",
     "exception": false,
     "start_time": "2024-02-22T01:04:45.741078",
     "status": "completed"
    },
    "tags": []
   },
   "source": [
    "### Resultat"
   ]
  },
  {
   "cell_type": "markdown",
   "id": "622a81d9",
   "metadata": {
    "papermill": {
     "duration": 0.006396,
     "end_time": "2024-02-22T01:04:45.760699",
     "exception": false,
     "start_time": "2024-02-22T01:04:45.754303",
     "status": "completed"
    },
    "tags": []
   },
   "source": [
    "Remarquablement, notre model fonctionne bien, a bien appris la relation qui existe entre ces different données. Il a reuisie á apprendre les règles. Le taux de réuisite de notre modèle est de 100 pourcent"
   ]
  },
  {
   "cell_type": "markdown",
   "id": "5f3ce646",
   "metadata": {
    "papermill": {
     "duration": 0.006256,
     "end_time": "2024-02-22T01:04:45.773793",
     "exception": false,
     "start_time": "2024-02-22T01:04:45.767537",
     "status": "completed"
    },
    "tags": []
   },
   "source": [
    "## Conclusion"
   ]
  },
  {
   "cell_type": "markdown",
   "id": "2ca7d819",
   "metadata": {
    "papermill": {
     "duration": 0.006567,
     "end_time": "2024-02-22T01:04:45.787057",
     "exception": false,
     "start_time": "2024-02-22T01:04:45.780490",
     "status": "completed"
    },
    "tags": []
   },
   "source": [
    "Dans cette travail, nous avons créer un modèle qui pour repondre au question suivant, comment savoir quels post correspond a un candidat en se basant sur ces compétences technique en IT. Après avoir effectué quelque étapes de purification de donnée, le modèle de SVM á été utilisé pour repondre á cette question. Remarquablement, le modèle a eu un taux de réussite de 100, il a réussis á apprendre les relations entre le compétences et le post ne question"
   ]
  }
 ],
 "metadata": {
  "kaggle": {
   "accelerator": "none",
   "dataSources": [
    {
     "datasetId": 4431632,
     "sourceId": 7610707,
     "sourceType": "datasetVersion"
    }
   ],
   "dockerImageVersionId": 30646,
   "isGpuEnabled": false,
   "isInternetEnabled": true,
   "language": "python",
   "sourceType": "notebook"
  },
  "kernelspec": {
   "display_name": "Python 3",
   "language": "python",
   "name": "python3"
  },
  "language_info": {
   "codemirror_mode": {
    "name": "ipython",
    "version": 3
   },
   "file_extension": ".py",
   "mimetype": "text/x-python",
   "name": "python",
   "nbconvert_exporter": "python",
   "pygments_lexer": "ipython3",
   "version": "3.10.13"
  },
  "papermill": {
   "default_parameters": {},
   "duration": 8.174628,
   "end_time": "2024-02-22T01:04:46.417581",
   "environment_variables": {},
   "exception": null,
   "input_path": "__notebook__.ipynb",
   "output_path": "__notebook__.ipynb",
   "parameters": {},
   "start_time": "2024-02-22T01:04:38.242953",
   "version": "2.5.0"
  }
 },
 "nbformat": 4,
 "nbformat_minor": 5
}
